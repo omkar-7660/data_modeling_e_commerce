{
 "cells": [
  {
   "cell_type": "code",
   "execution_count": 0,
   "metadata": {
    "application/vnd.databricks.v1+cell": {
     "cellMetadata": {
      "byteLimit": 2048000,
      "implicitDf": true,
      "rowLimit": 10000
     },
     "inputWidgets": {},
     "nuid": "0bf997bc-d3b3-4520-9c41-733724981b29",
     "showTitle": false,
     "tableResultSettingsMap": {},
     "title": ""
    }
   },
   "outputs": [],
   "source": [
    "%sql\n",
    "-- Total Revenue\n",
    "CREATE OR REPLACE TABLE e_comm_data_modeling.gold_kpi.total_revenue_per_month\n",
    "AS  \n",
    "select concat(year(order_date),lpad(month(order_date),2,0)) as yr_month,sum(total_amount) as total_revenue\n",
    "from (select distinct * from  e_comm_data_modeling.dim_fact_data.fact_order_item) \n",
    "where is_cancelled!=1 OR is_returned!=1\n",
    "group by yr_month;\n"
   ]
  },
  {
   "cell_type": "code",
   "execution_count": 0,
   "metadata": {
    "application/vnd.databricks.v1+cell": {
     "cellMetadata": {
      "byteLimit": 2048000,
      "implicitDf": true,
      "rowLimit": 10000
     },
     "inputWidgets": {},
     "nuid": "67f1b9c2-8adf-43c3-b674-6a63cd7dd622",
     "showTitle": false,
     "tableResultSettingsMap": {},
     "title": ""
    }
   },
   "outputs": [],
   "source": [
    "%sql\n",
    "-- Total Revenue\n",
    "CREATE OR REPLACE TABLE e_comm_data_modeling.gold_kpi.top_five_selling_product\n",
    "USING DELTA\n",
    "AS \n",
    "SELECT p.product_name,\n",
    "       count(1) AS total_cell_per_product\n",
    "FROM (SELECT DISTINCT * FROM e_comm_data_modeling.dim_fact_data.fact_order_item) f \n",
    "INNER JOIN e_comm_data_modeling.dim_fact_data.product p\n",
    "ON f.product_id=p.product_id\n",
    "WHERE is_cancelled != 1 AND is_returned != 1\n",
    "GROUP BY p.product_name\n",
    "ORDER BY total_cell_per_product DESC\n",
    "LIMIT 5;"
   ]
  },
  {
   "cell_type": "code",
   "execution_count": 0,
   "metadata": {
    "application/vnd.databricks.v1+cell": {
     "cellMetadata": {
      "byteLimit": 2048000,
      "implicitDf": true,
      "rowLimit": 10000
     },
     "inputWidgets": {},
     "nuid": "cb76349d-507a-4521-a0f4-37cf04bd5de4",
     "showTitle": false,
     "tableResultSettingsMap": {},
     "title": ""
    }
   },
   "outputs": [],
   "source": [
    "%sql\n",
    "-- Total Revenue\n",
    "CREATE OR REPLACE TABLE e_comm_data_modeling.gold_kpi.order_summary\n",
    "USING DELTA\n",
    "AS \n",
    "SELECT\n",
    "  count(1) AS total_orders, avg(f.duration) as avg_delivery_time,\n",
    "  round(sum(is_cancelled)/count(1),2) as cancel_rate,\n",
    "  round(sum(is_returned)/count(1),2) as return_rate\n",
    "\n",
    "FROM (SELECT DISTINCT * FROM e_comm_data_modeling.dim_fact_data.fact_order_item) f \n",
    "INNER JOIN e_comm_data_modeling.dim_fact_data.product p\n",
    "ON f.product_id=p.product_id;"
   ]
  }
 ],
 "metadata": {
  "application/vnd.databricks.v1+notebook": {
   "computePreferences": null,
   "dashboards": [],
   "environmentMetadata": {
    "base_environment": "",
    "environment_version": "2"
   },
   "inputWidgetPreferences": null,
   "language": "python",
   "notebookMetadata": {
    "mostRecentlyExecutedCommandWithImplicitDF": {
     "commandId": 5957513824760472,
     "dataframes": [
      "_sqldf"
     ]
    },
    "pythonIndentUnit": 4
   },
   "notebookName": "kpi_transformations_gold_layer",
   "widgets": {}
  },
  "language_info": {
   "name": "python"
  }
 },
 "nbformat": 4,
 "nbformat_minor": 0
}
